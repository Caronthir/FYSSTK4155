{
 "cells": [
  {
   "cell_type": "code",
   "execution_count": 33,
   "metadata": {},
   "outputs": [],
   "source": [
    "import pandas as pd\n",
    "import numpy as np\n",
    "from sklearn.preprocessing import StandardScaler\n",
    "from sklearn.compose import ColumnTransformer, make_column_transformer\n",
    "import random\n",
    "from sklearn.model_selection import train_test_split\n",
    "import matplotlib.pyplot as plt\n",
    "from sklearn.linear_model import SGDClassifier\n",
    "from sklearn.metrics import confusion_matrix, accuracy_score, roc_auc_score, roc_curve, auc, classification_report\n",
    "from sklearn.neural_network import MLPClassifier\n",
    "seed = 3000\n",
    "np.random.seed(seed)"
   ]
  },
  {
   "cell_type": "code",
   "execution_count": 71,
   "metadata": {},
   "outputs": [
    {
     "name": "stdout",
     "output_type": "stream",
     "text": [
      "review_count 498\n",
      "longitude 17793\n",
      "latitude 17970\n",
      "compliment_plain 1195\n",
      "useful 3894\n",
      "compliment_writer 705\n",
      "funny 2783\n",
      "compliment_profile 292\n",
      "compliment_cute 264\n",
      "compliment_funny 1238\n",
      "compliment_note 759\n",
      "fans 527\n",
      "compliment_photos 668\n",
      "compliment_cool 1238\n",
      "compliment_hot 1051\n",
      "cool 3155\n",
      "review_count.1 498\n",
      "average_stars 396\n",
      "compliment_more 302\n",
      "friends 2081\n",
      "compliment_list 174\n",
      "time 475694\n",
      "Top Rating:  44.1\n",
      "Under five rating:  55.9\n"
     ]
    }
   ],
   "source": [
    "filename = '/home/vala/Documents/FYS4155 Machine Learning/yelp_v2.csv'\n",
    "df = pd.read_csv(filename)\n",
    "\n",
    "#don't know how to handle postalcodes\n",
    "df.drop(columns=['postal_code'], inplace=True)\n",
    "for col in df.columns:\n",
    "    un = df[col].unique()\n",
    "    # Standardize all non-categorical variables\n",
    "    if len(un) <= 3 or col in ['RestaurantsPriceRange2', 'stars', 'rating']:\n",
    "        continue\n",
    "    print(col, len(un))\n",
    "    df[col] = StandardScaler().fit_transform(df[col].to_numpy().reshape(-1, 1))\n",
    "\n",
    "\n",
    "\n",
    "#17 indicator variables \n",
    "#58 predictors \n",
    "\n",
    "df['rating'] = np.where(df['rating'] == 1, 0, df['rating'])\n",
    "df['rating'] = np.where(df['rating'] == 2, 0, df['rating'])\n",
    "df['rating'] = np.where(df['rating'] == 3, 0, df['rating'])\n",
    "df['rating'] = np.where(df['rating'] == 4, 0, df['rating'])\n",
    "df['rating'] = np.where(df['rating'] == 5, 1, df['rating'])\n",
    "\n",
    "X = df.loc[: ,df.columns != 'rating'].values\n",
    "y = df.loc[:, df.columns == 'rating'].values\n",
    "\n",
    "\n",
    "X_train, X_test, y_train, y_test = train_test_split(X, y, test_size=0.2, stratify=y, random_state=seed)\n",
    "X_test, X_val, y_test, y_val = train_test_split(X_test, y_test, test_size= 0.5, stratify = y_test, random_state=seed)\n",
    "\n",
    "\n",
    "yes = df.rating.sum()\n",
    "no = len(df)-yes\n",
    "\n",
    "yes_perc = round(yes/len(df)*100, 1)\n",
    "no_perc = round(no/len(df)*100, 1)\n",
    "\n",
    "print(\"Top Rating: \", yes_perc)\n",
    "print(\"Under five rating: \", no_perc)\n",
    "#Fra 38 til 57\n"
   ]
  },
  {
   "cell_type": "markdown",
   "metadata": {},
   "source": [
    "## ScikitLearn Logistic Classification"
   ]
  },
  {
   "cell_type": "code",
   "execution_count": 36,
   "metadata": {},
   "outputs": [
    {
     "name": "stderr",
     "output_type": "stream",
     "text": [
      "/home/vala/anaconda3/envs/ipykernel_py3/lib/python3.7/site-packages/sklearn/utils/validation.py:724: DataConversionWarning: A column-vector y was passed when a 1d array was expected. Please change the shape of y to (n_samples, ), for example using ravel().\n",
      "  y = column_or_1d(y, warn=True)\n"
     ]
    },
    {
     "name": "stdout",
     "output_type": "stream",
     "text": [
      "Area under curve LogReg_skl_test:  0.8176498928022927\n",
      "Area under curve LogReg_skl_train:  0.8185053400702951\n",
      "Classification report test:\n",
      "              precision    recall  f1-score   support\n",
      "\n",
      "         0.0       0.75      0.81      0.78     27920\n",
      "         1.0       0.73      0.66      0.69     22017\n",
      "\n",
      "    accuracy                           0.74     49937\n",
      "   macro avg       0.74      0.73      0.73     49937\n",
      "weighted avg       0.74      0.74      0.74     49937\n",
      "\n",
      "Classification report train:\n",
      "              precision    recall  f1-score   support\n",
      "\n",
      "         0.0       0.75      0.81      0.78    223361\n",
      "         1.0       0.73      0.66      0.69    176138\n",
      "\n",
      "    accuracy                           0.74    399499\n",
      "   macro avg       0.74      0.73      0.74    399499\n",
      "weighted avg       0.74      0.74      0.74    399499\n",
      "\n"
     ]
    },
    {
     "data": {
      "image/png": "[encoded data removed]",
      "text/plain": [
       "<Figure size 432x288 with 1 Axes>"
      ]
     },
     "metadata": {
      "needs_background": "light"
     },
     "output_type": "display_data"
    }
   ],
   "source": [
    "eta = 0.002 \n",
    "clf = SGDClassifier(loss = 'log', penalty='l1', alpha = 0.01, max_iter=20, eta0=eta, learning_rate='constant', fit_intercept=True, random_state=seed)\n",
    "clf.fit(X_train, y_train)\n",
    "final_betas_LGSKL = clf.coef_.T\n",
    "#print(clf.intercept_)\n",
    "#print(clf.coef_)\n",
    "prob_LGSKL_test = clf.predict_proba(X_test)[:,1]\n",
    "prob_LGSKL_train = clf.predict_proba(X_train)[:,1]\n",
    "\n",
    "y_LGSKLpred_test = clf.predict(X_test)\n",
    "y_LGSKLpred_train = clf.predict(X_train)\n",
    "\n",
    "#print(clf.score(X_test, y_test))\n",
    "\n",
    "false_pos_LogReg_Skl_test, true_pos_LogReg_Skl_test = roc_curve(y_test, prob_LGSKL_test)[0:2]\n",
    "false_pos_LogReg_Skl_train, true_pos_LogReg_Skl_train = roc_curve(y_train, prob_LGSKL_train)[0:2]\n",
    "\n",
    "print(\"Area under curve LogReg_skl_test: \", auc(false_pos_LogReg_Skl_test, true_pos_LogReg_Skl_test))\n",
    "print(\"Area under curve LogReg_skl_train: \", auc(false_pos_LogReg_Skl_train, true_pos_LogReg_Skl_train))\n",
    "\n",
    "print(\"Classification report test:\")\n",
    "print(classification_report(y_test, y_LGSKLpred_test))\n",
    "print(\"Classification report train:\")\n",
    "print(classification_report(y_train, y_LGSKLpred_train))\n",
    "\n",
    "plt.plot([0, 1], [0, 1], \"k--\")\n",
    "plt.plot(false_pos_LogReg_Skl_test, true_pos_LogReg_Skl_test, label=\"LogReg_test\")\n",
    "plt.plot(false_pos_LogReg_Skl_train, true_pos_LogReg_Skl_train, label=\"LogReg_train\")\n",
    "plt.legend()\n",
    "plt.xlabel(\"False Positive rate\")\n",
    "plt.ylabel(\"True Positive rate\")\n",
    "plt.title(\"ROC curve\")\n",
    "plt.show()"
   ]
  },
  {
   "cell_type": "code",
   "execution_count": 74,
   "metadata": {},
   "outputs": [
    {
     "name": "stdout",
     "output_type": "stream",
     "text": [
      "[0.7472284  0.7472284  0.74719586 0.74711827 0.7461045  0.74392677\n",
      " 0.73871023 0.55910278 0.55910278 0.55910278]\n",
      "[0.74495865 0.74489857 0.74477842 0.74443799 0.74469832 0.7433366\n",
      " 0.73698861 0.55910447 0.55910447 0.55910447]\n"
     ]
    },
    {
     "data": {
      "image/png": "[encoded data removed]",
      "text/plain": [
       "<Figure size 432x288 with 1 Axes>"
      ]
     },
     "metadata": {
      "needs_background": "light"
     },
     "output_type": "display_data"
    }
   ],
   "source": [
    "# Hypertuning for classification\n",
    "\n",
    "alpha_array = np.logspace(-7,1, 10)\n",
    "\n",
    "eta = 0.002 \n",
    "accuracy_train = np.zeros((len(alpha_array)))\n",
    "#print(accuracy_train)\n",
    "accuracy_test = np.zeros((len(alpha_array)))\n",
    "for i, alpha in enumerate(alpha_array):\n",
    "    clf = SGDClassifier(loss = 'log', penalty='l1', alpha=alpha, max_iter=20, eta0=eta, learning_rate='constant', fit_intercept=True, random_state=seed)\n",
    "    clf.fit(X_train, y_train.flatten())\n",
    "    y_HYPERpred_train = clf.predict(X_train)\n",
    "    y_HYPERpred_test = clf.predict(X_test)\n",
    "    accuracy_train[i] = accuracy_score(y_train, y_HYPERpred_train)\n",
    "    accuracy_test[i] = accuracy_score(y_test, y_HYPERpred_test)\n",
    "    \n",
    "print(accuracy_train)  \n",
    "print(accuracy_test)\n",
    "plt.plot(np.log10(alpha_array), accuracy_train, label='l1-pen train')\n",
    "plt.plot(np.log10(alpha_array), accuracy_test, label='l1-pen test' )\n",
    "plt.xlabel(\"Lambda\")\n",
    "plt.ylabel(\"Accuracy\")\n",
    "plt.legend()\n",
    "plt.show()\n"
   ]
  },
  {
   "cell_type": "markdown",
   "metadata": {},
   "source": [
    "## Neural Network Classification"
   ]
  },
  {
   "cell_type": "code",
   "execution_count": null,
   "metadata": {},
   "outputs": [],
   "source": [
    "#Hypertuning \n",
    "\n"
   ]
  },
  {
   "cell_type": "code",
   "execution_count": 58,
   "metadata": {},
   "outputs": [
    {
     "name": "stderr",
     "output_type": "stream",
     "text": [
      "/home/vala/anaconda3/envs/ipykernel_py3/lib/python3.7/site-packages/sklearn/neural_network/multilayer_perceptron.py:566: ConvergenceWarning: Stochastic Optimizer: Maximum iterations (20) reached and the optimization hasn't converged yet.\n",
      "  % self.max_iter, ConvergenceWarning)\n"
     ]
    },
    {
     "name": "stdout",
     "output_type": "stream",
     "text": [
      "Area under curve LogReg_skl_test:  0.8214658300638489\n",
      "Area under curve LogReg_skl_train:  0.8226753365768326\n",
      "Classification report test:\n",
      "              precision    recall  f1-score   support\n",
      "\n",
      "         0.0       0.74      0.87      0.80     27920\n",
      "         1.0       0.78      0.61      0.69     22017\n",
      "\n",
      "    accuracy                           0.75     49937\n",
      "   macro avg       0.76      0.74      0.74     49937\n",
      "weighted avg       0.76      0.75      0.75     49937\n",
      "\n",
      "Classification report train:\n",
      "              precision    recall  f1-score   support\n",
      "\n",
      "         0.0       0.74      0.86      0.80    223361\n",
      "         1.0       0.78      0.62      0.69    176138\n",
      "\n",
      "    accuracy                           0.75    399499\n",
      "   macro avg       0.76      0.74      0.74    399499\n",
      "weighted avg       0.76      0.75      0.75    399499\n",
      "\n"
     ]
    },
    {
     "data": {
      "image/png": "[encoded data removed]",
      "text/plain": [
       "<Figure size 432x288 with 1 Axes>"
      ]
     },
     "metadata": {
      "needs_background": "light"
     },
     "output_type": "display_data"
    }
   ],
   "source": [
    "epochs = 20\n",
    "batch_size = 25\n",
    "eta = 0.1\n",
    "lmbd = 0.01\n",
    "n_hidden_neurons = 41\n",
    "n_categories = 1\n",
    "\n",
    "\n",
    "dnn = MLPClassifier(hidden_layer_sizes=(n_hidden_neurons,),activation='logistic', solver='sgd', alpha=0.01, batch_size=batch_size,\n",
    "    learning_rate_init=eta, \n",
    "    max_iter=epochs,random_state=seed, momentum=0, shuffle=False)\n",
    "\n",
    "dnn.fit(X_train, y_train.ravel())\n",
    "\n",
    "y_MLPCpred_test = dnn.predict(X_test)\n",
    "y_MLPCpred_train = dnn.predict(X_train)\n",
    "\n",
    "prob_MLPC_test = clf.predict_proba(X_test)[:,1]\n",
    "prob_MLPC_train = clf.predict_proba(X_train)[:,1]\n",
    "\n",
    "\n",
    "#print(clf.score(X_test, y_test))\n",
    "\n",
    "false_pos_MLPC_Skl_test, true_pos_MLPC_Skl_test = roc_curve(y_test, prob_MLPC_test)[0:2]\n",
    "false_pos_MLPC_Skl_train, true_pos_MLPC_Skl_train = roc_curve(y_train, prob_MLPC_train)[0:2]\n",
    "\n",
    "print(\"Area under curve LogReg_skl_test: \", auc(false_pos_MLPC_Skl_test, true_pos_MLPC_Skl_test))\n",
    "print(\"Area under curve LogReg_skl_train: \", auc(false_pos_MLPC_Skl_train, true_pos_MLPC_Skl_train))\n",
    "\n",
    "print(\"Classification report test:\")\n",
    "print(classification_report(y_test, y_MLPCpred_test))\n",
    "print(\"Classification report train:\")\n",
    "print(classification_report(y_train, y_MLPCpred_train))\n",
    "\n",
    "plt.plot([0, 1], [0, 1], \"k--\")\n",
    "plt.plot(false_pos_MLPC_Skl_test, true_pos_MLPC_Skl_test, label=\"LogReg_test\")\n",
    "plt.plot(false_pos_MLPC_Skl_train, true_pos_MLPC_Skl_train, label=\"LogReg_train\")\n",
    "plt.legend()\n",
    "plt.xlabel(\"False Positive rate\")\n",
    "plt.ylabel(\"True Positive rate\")\n",
    "plt.title(\"ROC curve\")\n",
    "plt.show()"
   ]
  }
 ],
 "metadata": {
  "kernelspec": {
   "display_name": "Python 3",
   "language": "python",
   "name": "python3"
  },
  "language_info": {
   "codemirror_mode": {
    "name": "ipython",
    "version": 3
   },
   "file_extension": ".py",
   "mimetype": "text/x-python",
   "name": "python",
   "nbconvert_exporter": "python",
   "pygments_lexer": "ipython3",
   "version": "3.7.4"
  }
 },
 "nbformat": 4,
 "nbformat_minor": 2
}
