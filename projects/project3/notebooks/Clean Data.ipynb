{
 "cells": [
  {
   "cell_type": "code",
   "execution_count": 1,
   "metadata": {},
   "outputs": [],
   "source": [
    "import pandas as pd\n",
    "from pathlib import Path\n",
    "import json\n",
    "from tqdm import tqdm_notebook as tqdm\n",
    "DATA = Path(\"../data\")\n",
    "BUSINESS = DATA / \"business.json\"\n",
    "USER = DATA / \"user.json\"\n",
    "REVIEW = DATA / \"review.json\"\n",
    "SAVEPATH = DATA / \"yelp.csv\""
   ]
  },
  {
   "cell_type": "code",
   "execution_count": 10,
   "metadata": {},
   "outputs": [
    {
     "data": {
      "application/vnd.jupyter.widget-view+json": {
       "model_id": "3ba88e5be0654b618c626b6963456ab9",
       "version_major": 2,
       "version_minor": 0
      },
      "text/plain": [
       "HBox(children=(IntProgress(value=1, bar_style='info', max=1), HTML(value='')))"
      ]
     },
     "metadata": {},
     "output_type": "display_data"
    },
    {
     "name": "stdout",
     "output_type": "stream",
     "text": [
      "\n"
     ]
    }
   ],
   "source": [
    "business = {}\n",
    "columns = ['name', 'city', 'state', 'postal_code', 'latitude', 'longitude', 'stars', 'review_count', 'is_open']\n",
    "categories = Counter()\n",
    "    \n",
    "with open(BUSINESS) as fin:\n",
    "    i = 0\n",
    "    for row in tqdm(fin):\n",
    "        data = json.loads(row)\n",
    "        vals = {k: v for k, v in data.items() if k in columns}\n",
    "        if data['attributes'] is not None:\n",
    "            for k, v in data['attributes'].items():\n",
    "                if '{' in v:\n",
    "                    v = eval(v)\n",
    "                    for k, v_ in v.items():\n",
    "                        vals[k] = v_\n",
    "                else:\n",
    "                    vals[k] = v\n",
    "        if data['categories'] is not None:\n",
    "            categories_ = data['categories'].split(', ')\n",
    "            categories.add(categories_)\n",
    "        #    for category in data['categories'].split(', '):\n",
    "        #        vals[category] = True\n",
    "        business[data['business_id']] = vals\n",
    "        \n",
    "        #if i > 20_000:\n",
    "        #    break\n",
    "        i += 1"
   ]
  },
  {
   "cell_type": "code",
   "execution_count": 17,
   "metadata": {},
   "outputs": [
    {
     "name": "stdout",
     "output_type": "stream",
     "text": [
      "{'asian', 'WiFi', 'breakfast', 'RestaurantsPriceRange2', 'Alcohol', 'review_count', 'AgesAllowed', 'postal_code', 'straightperms', 'monday', 'city', 'gluten-free', 'WheelchairAccessible', 'BusinessParking', 'ByAppointmentOnly', 'friday', 'background_music', 'intimate', 'HairSpecializesIn', 'name', 'Corkage', 'GoodForKids', 'GoodForDancing', 'live', 'Open24Hours', 'halal', 'NoiseLevel', 'lot', 'kosher', 'longitude', 'brunch', 'RestaurantsGoodForGroups', 'video', 'RestaurantsReservations', 'HasTV', 'RestaurantsTakeOut', 'dairy-free', 'vegan', 'RestaurantsTableService', 'karaoke', 'wednesday', 'thursday', 'street', 'GoodForMeal', 'dj', 'BYOBCorkage', 'OutdoorSeating', 'BusinessAcceptsBitcoin', 'valet', 'validated', 'classy', 'hipster', 'RestaurantsDelivery', 'Ambience', 'casual', 'BikeParking', 'AcceptsInsurance', 'divey', 'RestaurantsCounterService', 'Music', 'dinner', 'vegetarian', 'Smoking', 'stars', 'latenight', 'DriveThru', 'BestNights', 'BYOB', 'Caters', 'saturday', 'sunday', 'latitude', 'lunch', 'DietaryRestrictions', 'africanamerican', 'garage', 'touristy', 'state', 'trendy', 'romantic', 'curly', 'is_open', 'soy-free', 'dessert', 'perms', 'RestaurantsAttire', 'no_music', 'DogsAllowed', 'HappyHour', 'jukebox', 'kids', 'tuesday', 'BusinessAcceptsCreditCards', 'coloring', 'extensions', 'CoatCheck', 'upscale'}\n"
     ]
    }
   ],
   "source": [
    "keys = {k for _, v in business.items() for k in v}\n",
    "print(keys)"
   ]
  },
  {
   "cell_type": "code",
   "execution_count": 21,
   "metadata": {},
   "outputs": [
    {
     "ename": "TypeError",
     "evalue": "sort() takes no positional arguments",
     "output_type": "error",
     "traceback": [
      "\u001b[0;31m---------------------------------------------------------------------------\u001b[0m",
      "\u001b[0;31mTypeError\u001b[0m                                 Traceback (most recent call last)",
      "\u001b[0;32m<ipython-input-21-f955bc1bccc6>\u001b[0m in \u001b[0;36m<module>\u001b[0;34m\u001b[0m\n\u001b[0;32m----> 1\u001b[0;31m \u001b[0mlist\u001b[0m\u001b[0;34m(\u001b[0m\u001b[0mkeys\u001b[0m\u001b[0;34m)\u001b[0m\u001b[0;34m.\u001b[0m\u001b[0msort\u001b[0m\u001b[0;34m(\u001b[0m\u001b[0mcolumns\u001b[0m\u001b[0;34m)\u001b[0m\u001b[0;34m\u001b[0m\u001b[0;34m\u001b[0m\u001b[0m\n\u001b[0m",
      "\u001b[0;31mTypeError\u001b[0m: sort() takes no positional arguments"
     ]
    }
   ],
   "source": []
  },
  {
   "cell_type": "code",
   "execution_count": 9,
   "metadata": {},
   "outputs": [],
   "source": [
    "class Counter:\n",
    "    def __init__(self):\n",
    "        self.kv = {}\n",
    "    def add(self, other):\n",
    "        for k in other:\n",
    "            if k in self.kv:\n",
    "                self.kv[k] += 1\n",
    "            else:\n",
    "                self.kv[k] = 1"
   ]
  },
  {
   "cell_type": "code",
   "execution_count": 11,
   "metadata": {},
   "outputs": [
    {
     "data": {
      "application/vnd.jupyter.widget-view+json": {
       "model_id": "7a1ada4fa1514c3e86fb2dc721ef651c",
       "version_major": 2,
       "version_minor": 0
      },
      "text/plain": [
       "HBox(children=(IntProgress(value=1, bar_style='info', max=1), HTML(value='')))"
      ]
     },
     "metadata": {},
     "output_type": "display_data"
    },
    {
     "name": "stdout",
     "output_type": "stream",
     "text": [
      "\n"
     ]
    }
   ],
   "source": [
    "columns =['review_count', 'yelping_since', 'useful', 'funny', 'cool', 'friends', 'fans', 'average_stars', 'compliment_hot', 'compliment_more', 'compliment_profile', 'compliment_cute', 'compliment_list', 'compliment_note', 'compliment_plain', 'compliment_cool', 'compliment_funny', 'compliment_writer', 'compliment_photos'] \n",
    "users = {}\n",
    "with open(USER) as fin:\n",
    "    i = 0\n",
    "    for row in tqdm(fin):\n",
    "        data = json.loads(row)\n",
    "        #print(json.dumps(data, indent=4))\n",
    "        vals = {k: v for k, v in data.items() if k in columns}\n",
    "        vals['friends'] = data['friends'].count(',') + 1\n",
    "        users[data['user_id']] = vals\n",
    "        #if i > 20_000:\n",
    "        #    break\n",
    "        i += 1"
   ]
  },
  {
   "cell_type": "code",
   "execution_count": 13,
   "metadata": {},
   "outputs": [
    {
     "name": "stdout",
     "output_type": "stream",
     "text": [
      "116\n"
     ]
    }
   ],
   "source": [
    "ukeys = {k for _, v in users.items() for k in v}\n",
    "print(len(keys) + len(ukeys))"
   ]
  },
  {
   "cell_type": "code",
   "execution_count": 41,
   "metadata": {},
   "outputs": [],
   "source": [
    "reviews = []\n",
    "with open(REVIEW) as fin:\n",
    "    i = 0\n",
    "    for row in fin:\n",
    "        data = json.loads(row)\n",
    "        try:\n",
    "            b = business[data['business_id']]\n",
    "            u = {k: v for k, v in users[data['user_id']].items()}\n",
    "            time = timesince(data['date'], u['yelping_since'])\n",
    "            u.pop('yelping_since')\n",
    "            reviews.append({**u, **b, 'time': time, 'rating': data['stars']})\n",
    "        except KeyError as e:\n",
    "            continue\n",
    "        #i += 1\n",
    "        #if i > 20_000:\n",
    "        #    break"
   ]
  },
  {
   "cell_type": "code",
   "execution_count": null,
   "metadata": {},
   "outputs": [],
   "source": [
    "del business\n",
    "del users\n",
    "df = pd.DataFrame(reviews)\n",
    "df.to_csv(SAVEPATH)\n",
    "del reviews\n",
    "del df"
   ]
  },
  {
   "cell_type": "code",
   "execution_count": 11,
   "metadata": {},
   "outputs": [],
   "source": [
    "from dateutil import parser\n",
    "def timesince(date1, date2):\n",
    "    return (parser.parse(date1) - parser.parse(date2)).total_seconds()"
   ]
  },
  {
   "cell_type": "code",
   "execution_count": 36,
   "metadata": {},
   "outputs": [
    {
     "ename": "AttributeError",
     "evalue": "'DataFrame' object has no attribute 'write_csv'",
     "output_type": "error",
     "traceback": [
      "\u001b[0;31m---------------------------------------------------------------------------\u001b[0m",
      "\u001b[0;31mAttributeError\u001b[0m                            Traceback (most recent call last)",
      "\u001b[0;32m<ipython-input-36-0d9f658f4bfd>\u001b[0m in \u001b[0;36m<module>\u001b[0;34m\u001b[0m\n\u001b[1;32m      1\u001b[0m \u001b[0mdf\u001b[0m \u001b[0;34m=\u001b[0m \u001b[0mpd\u001b[0m\u001b[0;34m.\u001b[0m\u001b[0mDataFrame\u001b[0m\u001b[0;34m(\u001b[0m\u001b[0mreviews\u001b[0m\u001b[0;34m)\u001b[0m\u001b[0;34m\u001b[0m\u001b[0;34m\u001b[0m\u001b[0m\n\u001b[0;32m----> 2\u001b[0;31m \u001b[0mdf\u001b[0m\u001b[0;34m.\u001b[0m\u001b[0mwrite_csv\u001b[0m\u001b[0;34m(\u001b[0m\u001b[0mSAVEPATH\u001b[0m\u001b[0;34m)\u001b[0m\u001b[0;34m\u001b[0m\u001b[0;34m\u001b[0m\u001b[0m\n\u001b[0m",
      "\u001b[0;32m/usr/lib/python3.8/site-packages/pandas/core/generic.py\u001b[0m in \u001b[0;36m__getattr__\u001b[0;34m(self, name)\u001b[0m\n\u001b[1;32m   5177\u001b[0m             \u001b[0;32mif\u001b[0m \u001b[0mself\u001b[0m\u001b[0;34m.\u001b[0m\u001b[0m_info_axis\u001b[0m\u001b[0;34m.\u001b[0m\u001b[0m_can_hold_identifiers_and_holds_name\u001b[0m\u001b[0;34m(\u001b[0m\u001b[0mname\u001b[0m\u001b[0;34m)\u001b[0m\u001b[0;34m:\u001b[0m\u001b[0;34m\u001b[0m\u001b[0;34m\u001b[0m\u001b[0m\n\u001b[1;32m   5178\u001b[0m                 \u001b[0;32mreturn\u001b[0m \u001b[0mself\u001b[0m\u001b[0;34m[\u001b[0m\u001b[0mname\u001b[0m\u001b[0;34m]\u001b[0m\u001b[0;34m\u001b[0m\u001b[0;34m\u001b[0m\u001b[0m\n\u001b[0;32m-> 5179\u001b[0;31m             \u001b[0;32mreturn\u001b[0m \u001b[0mobject\u001b[0m\u001b[0;34m.\u001b[0m\u001b[0m__getattribute__\u001b[0m\u001b[0;34m(\u001b[0m\u001b[0mself\u001b[0m\u001b[0;34m,\u001b[0m \u001b[0mname\u001b[0m\u001b[0;34m)\u001b[0m\u001b[0;34m\u001b[0m\u001b[0;34m\u001b[0m\u001b[0m\n\u001b[0m\u001b[1;32m   5180\u001b[0m \u001b[0;34m\u001b[0m\u001b[0m\n\u001b[1;32m   5181\u001b[0m     \u001b[0;32mdef\u001b[0m \u001b[0m__setattr__\u001b[0m\u001b[0;34m(\u001b[0m\u001b[0mself\u001b[0m\u001b[0;34m,\u001b[0m \u001b[0mname\u001b[0m\u001b[0;34m,\u001b[0m \u001b[0mvalue\u001b[0m\u001b[0;34m)\u001b[0m\u001b[0;34m:\u001b[0m\u001b[0;34m\u001b[0m\u001b[0;34m\u001b[0m\u001b[0m\n",
      "\u001b[0;31mAttributeError\u001b[0m: 'DataFrame' object has no attribute 'write_csv'"
     ]
    }
   ],
   "source": [
    "df = pd.DataFrame(reviews)"
   ]
  },
  {
   "cell_type": "code",
   "execution_count": 37,
   "metadata": {},
   "outputs": [],
   "source": [
    "df.to_csv(SAVEPATH)"
   ]
  },
  {
   "cell_type": "code",
   "execution_count": 38,
   "metadata": {},
   "outputs": [
    {
     "data": {
      "text/plain": [
       "Index(['review_count', 'useful', 'funny', 'cool', 'friends', 'fans',\n",
       "       'average_stars', 'compliment_hot', 'compliment_more',\n",
       "       'compliment_profile',\n",
       "       ...\n",
       "       'Bartending Schools', 'Grilling Equipment', 'Bounce House Rentals',\n",
       "       'Face Painting', 'Party Characters', 'Lice Services', 'Sailing',\n",
       "       'Personal Care Services', 'Assisted Living Facilities',\n",
       "       'Elder Care Planning'],\n",
       "      dtype='object', length=1013)"
      ]
     },
     "execution_count": 38,
     "metadata": {},
     "output_type": "execute_result"
    }
   ],
   "source": [
    "df.columns"
   ]
  },
  {
   "cell_type": "code",
   "execution_count": 15,
   "metadata": {},
   "outputs": [
    {
     "data": {
      "text/plain": [
       "{1, 2, 3, 4}"
      ]
     },
     "execution_count": 15,
     "metadata": {},
     "output_type": "execute_result"
    }
   ],
   "source": [
    "{1,2,3}.union({4,3,2})"
   ]
  },
  {
   "cell_type": "code",
   "execution_count": 16,
   "metadata": {},
   "outputs": [
    {
     "ename": "NameError",
     "evalue": "name 'keys' is not defined",
     "output_type": "error",
     "traceback": [
      "\u001b[0;31m---------------------------------------------------------------------------\u001b[0m",
      "\u001b[0;31mNameError\u001b[0m                                 Traceback (most recent call last)",
      "\u001b[0;32m<ipython-input-16-a0e945ced83d>\u001b[0m in \u001b[0;36m<module>\u001b[0;34m\u001b[0m\n\u001b[0;32m----> 1\u001b[0;31m \u001b[0mkeys\u001b[0m\u001b[0;34m\u001b[0m\u001b[0;34m\u001b[0m\u001b[0m\n\u001b[0m",
      "\u001b[0;31mNameError\u001b[0m: name 'keys' is not defined"
     ]
    }
   ],
   "source": [
    "keys"
   ]
  },
  {
   "cell_type": "code",
   "execution_count": null,
   "metadata": {},
   "outputs": [],
   "source": []
  }
 ],
 "metadata": {
  "@webio": {
   "lastCommId": null,
   "lastKernelId": null
  },
  "kernelspec": {
   "display_name": "Python 3",
   "language": "python",
   "name": "python3"
  },
  "language_info": {
   "codemirror_mode": {
    "name": "ipython",
    "version": 3
   },
   "file_extension": ".py",
   "mimetype": "text/x-python",
   "name": "python",
   "nbconvert_exporter": "python",
   "pygments_lexer": "ipython3",
   "version": "3.8.0"
  },
  "varInspector": {
   "cols": {
    "lenName": 16,
    "lenType": 16,
    "lenVar": 40
   },
   "kernels_config": {
    "python": {
     "delete_cmd_postfix": "",
     "delete_cmd_prefix": "del ",
     "library": "var_list.py",
     "varRefreshCmd": "print(var_dic_list())"
    },
    "r": {
     "delete_cmd_postfix": ") ",
     "delete_cmd_prefix": "rm(",
     "library": "var_list.r",
     "varRefreshCmd": "cat(var_dic_list()) "
    }
   },
   "types_to_exclude": [
    "module",
    "function",
    "builtin_function_or_method",
    "instance",
    "_Feature"
   ],
   "window_display": false
  }
 },
 "nbformat": 4,
 "nbformat_minor": 2
}
