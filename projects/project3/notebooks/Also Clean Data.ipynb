{
 "cells": [
  {
   "cell_type": "code",
   "execution_count": 1,
   "metadata": {},
   "outputs": [],
   "source": [
    "import pandas as pd\n",
    "from pathlib import Path\n",
    "from tqdm import tqdm_notebook as tqdm\n",
    "DATA = Path(\"../data\")\n",
    "BUSINESS = DATA / \"business.json\"\n",
    "USER = DATA / \"user.json\"\n",
    "REVIEW = DATA / \"review.json\"\n",
    "SAVEPATH = DATA / \"yelp.csv\"\n",
    "YELP = DATA / \"final_yelp.csv\""
   ]
  },
  {
   "cell_type": "code",
   "execution_count": 6,
   "metadata": {},
   "outputs": [],
   "source": [
    "df = pd.read_csv(YELP)"
   ]
  },
  {
   "cell_type": "code",
   "execution_count": 1,
   "metadata": {},
   "outputs": [
    {
     "ename": "NameError",
     "evalue": "name 'df' is not defined",
     "output_type": "error",
     "traceback": [
      "\u001b[0;31m---------------------------------------------------------------------------\u001b[0m",
      "\u001b[0;31mNameError\u001b[0m                                 Traceback (most recent call last)",
      "\u001b[0;32m<ipython-input-1-c4f45dfad762>\u001b[0m in \u001b[0;36m<module>\u001b[0;34m\u001b[0m\n\u001b[1;32m      1\u001b[0m \u001b[0;31m# Almost all postal codes are good. Remove those that are missing\u001b[0m\u001b[0;34m\u001b[0m\u001b[0;34m\u001b[0m\u001b[0;34m\u001b[0m\u001b[0m\n\u001b[1;32m      2\u001b[0m \u001b[0;31m# and those that have a wierd format\u001b[0m\u001b[0;34m\u001b[0m\u001b[0;34m\u001b[0m\u001b[0;34m\u001b[0m\u001b[0m\n\u001b[0;32m----> 3\u001b[0;31m \u001b[0mdf\u001b[0m\u001b[0;34m.\u001b[0m\u001b[0mdropna\u001b[0m\u001b[0;34m(\u001b[0m\u001b[0msubset\u001b[0m\u001b[0;34m=\u001b[0m\u001b[0;34m[\u001b[0m\u001b[0;34m\"postal_code\"\u001b[0m\u001b[0;34m]\u001b[0m\u001b[0;34m,\u001b[0m \u001b[0minplace\u001b[0m\u001b[0;34m=\u001b[0m\u001b[0;32mTrue\u001b[0m\u001b[0;34m)\u001b[0m\u001b[0;34m\u001b[0m\u001b[0;34m\u001b[0m\u001b[0m\n\u001b[0m\u001b[1;32m      4\u001b[0m \u001b[0mdf\u001b[0m \u001b[0;34m=\u001b[0m \u001b[0mdf\u001b[0m\u001b[0;34m[\u001b[0m\u001b[0mdf\u001b[0m\u001b[0;34m[\u001b[0m\u001b[0;34m'postal_code'\u001b[0m\u001b[0;34m]\u001b[0m\u001b[0;34m.\u001b[0m\u001b[0mapply\u001b[0m\u001b[0;34m(\u001b[0m\u001b[0;32mlambda\u001b[0m \u001b[0mx\u001b[0m\u001b[0;34m:\u001b[0m \u001b[0mx\u001b[0m\u001b[0;34m.\u001b[0m\u001b[0misdigit\u001b[0m\u001b[0;34m(\u001b[0m\u001b[0;34m)\u001b[0m\u001b[0;34m)\u001b[0m\u001b[0;34m]\u001b[0m\u001b[0;34m\u001b[0m\u001b[0;34m\u001b[0m\u001b[0m\n",
      "\u001b[0;31mNameError\u001b[0m: name 'df' is not defined"
     ]
    }
   ],
   "source": [
    "# Almost all postal codes are good. Remove those that are missing\n",
    "# and those that have a wierd format\n",
    "df.dropna(subset=[\"postal_code\"], inplace=True)\n",
    "df = df[df['postal_code'].apply(lambda x: x.isdigit())]"
   ]
  },
  {
   "cell_type": "code",
   "execution_count": 17,
   "metadata": {},
   "outputs": [],
   "source": [
    "from sklearn.impute import MissingIndicator"
   ]
  },
  {
   "cell_type": "code",
   "execution_count": 19,
   "metadata": {},
   "outputs": [],
   "source": [
    "indicator = MissingIndicator(missing_values=np.NaN)\n",
    "indicator = indicator.fit_transform(df)\n",
    "indicator = pd.DataFrame(indicator)"
   ]
  },
  {
   "cell_type": "code",
   "execution_count": 24,
   "metadata": {
    "collapsed": true
   },
   "outputs": [
    {
     "name": "stdout",
     "output_type": "stream",
     "text": [
      "lot                            94915\n",
      "validated                      94915\n",
      "RestaurantsTakeOut            164684\n",
      "state                              0\n",
      "Caters                        198617\n",
      "trendy                        191007\n",
      "RestaurantsPriceRange2         86736\n",
      "dessert                       238573\n",
      "upscale                       191220\n",
      "WiFi                          172809\n",
      "RestaurantsGoodForGroups      178873\n",
      "WheelchairAccessible          397376\n",
      "breakfast                     238573\n",
      "BusinessAcceptsCreditCards    101521\n",
      "latenight                     238573\n",
      "Alcohol                       184434\n",
      "street                         94915\n",
      "divey                         208659\n",
      "review_count                       0\n",
      "RestaurantsAttire             193201\n",
      "garage                         94868\n",
      "GoodForKids                   158751\n",
      "classy                        191007\n",
      "RestaurantsDelivery           183709\n",
      "BikeParking                   114988\n",
      "lunch                         238573\n",
      "stars                              0\n",
      "dinner                        238573\n",
      "is_open                            0\n",
      "longitude                          0\n",
      "touristy                      191007\n",
      "RestaurantsReservations       186449\n",
      "intimate                      191007\n",
      "hipster                       191596\n",
      "postal_code                        0\n",
      "NoiseLevel                    196379\n",
      "brunch                        238573\n",
      "city                               0\n",
      "romantic                      191007\n",
      "casual                        191007\n",
      "valet                          94913\n",
      "HasTV                         190283\n",
      "RestaurantsTableService       351743\n",
      "OutdoorSeating                173387\n",
      "latitude                           0\n",
      "compliment_plain                   0\n",
      "useful                             0\n",
      "compliment_writer                  0\n",
      "funny                              0\n",
      "compliment_profile                 0\n",
      "compliment_cute                    0\n",
      "compliment_funny                   0\n",
      "compliment_note                    0\n",
      "fans                               0\n",
      "compliment_photos                  0\n",
      "compliment_cool                    0\n",
      "compliment_hot                     0\n",
      "cool                               0\n",
      "review_count.1                     0\n",
      "average_stars                      0\n",
      "compliment_more                    0\n",
      "friends                            0\n",
      "compliment_list                    0\n",
      "time                               0\n",
      "rating                             0\n",
      "dtype: int64\n"
     ]
    }
   ],
   "source": [
    "with pd.option_context('display.max_rows', None):\n",
    "    print(df.isnull().sum())"
   ]
  },
  {
   "cell_type": "code",
   "execution_count": 8,
   "metadata": {},
   "outputs": [],
   "source": [
    "df.replace({\"True\": True, \"False\": False, \"None\": np.NaN}, inplace=True)"
   ]
  },
  {
   "cell_type": "code",
   "execution_count": 9,
   "metadata": {},
   "outputs": [],
   "source": [
    "# columns with non-boolean categorical values:\n",
    "cols_to_split = ['Alcohol', 'NoiseLevel', 'RestaurantsAttire', 'WiFi']\n",
    "def clean(x):\n",
    "    x = str(x)\n",
    "    if x[0] == 'u':\n",
    "        x = x[1:]\n",
    "    if x[0] == \"'\":\n",
    "        x = x[1:]\n",
    "    if x[-1] == \"'\":\n",
    "        x = x[:-1]\n",
    "    return x\n",
    "new_cat = pd.concat([pd.get_dummies(df[col].apply(clean), prefix=col) for col in cols_to_split], axis=1)\n",
    "# keep all columns (not n-1) because 0's for all of them indicates that the data was missing (useful info)\n",
    "business_df = pd.concat([df, new_cat], axis=1)\n",
    "business_df.drop(cols_to_split, inplace=True, axis=1)\n",
    "business_df.head()\n",
    "df = business_df"
   ]
  },
  {
   "cell_type": "code",
   "execution_count": 10,
   "metadata": {},
   "outputs": [],
   "source": [
    "df = df.fillna(0.5).apply(pd.to_numeric, errors=\"ignore\")"
   ]
  },
  {
   "cell_type": "code",
   "execution_count": 11,
   "metadata": {},
   "outputs": [
    {
     "data": {
      "text/plain": [
       "0"
      ]
     },
     "execution_count": 11,
     "metadata": {},
     "output_type": "execute_result"
    }
   ],
   "source": [
    "df.isnull().sum().sum()"
   ]
  },
  {
   "cell_type": "code",
   "execution_count": 21,
   "metadata": {},
   "outputs": [],
   "source": [
    "df.drop(columns=['state', 'city'], inplace=True)"
   ]
  },
  {
   "cell_type": "code",
   "execution_count": 27,
   "metadata": {},
   "outputs": [
    {
     "data": {
      "text/plain": [
       "0         0\n",
       "1         0\n",
       "2         0\n",
       "3         0\n",
       "4         0\n",
       "         ..\n",
       "499995    0\n",
       "499996    0\n",
       "499997    0\n",
       "499998    1\n",
       "499999    0\n",
       "Name: Alcohol_beer_and_wine, Length: 499374, dtype: uint8"
      ]
     },
     "execution_count": 27,
     "metadata": {},
     "output_type": "execute_result"
    }
   ],
   "source": [
    "df.Alcohol_beer_and_wine"
   ]
  },
  {
   "cell_type": "code",
   "execution_count": 23,
   "metadata": {},
   "outputs": [
    {
     "data": {
      "text/plain": [
       "Index(['lot', 'validated', 'RestaurantsTakeOut', 'Caters', 'trendy',\n",
       "       'RestaurantsPriceRange2', 'dessert', 'upscale',\n",
       "       'RestaurantsGoodForGroups', 'WheelchairAccessible', 'breakfast',\n",
       "       'BusinessAcceptsCreditCards', 'latenight', 'street', 'divey',\n",
       "       'review_count', 'garage', 'GoodForKids', 'classy',\n",
       "       'RestaurantsDelivery', 'BikeParking', 'lunch', 'stars', 'dinner',\n",
       "       'is_open', 'longitude', 'touristy', 'RestaurantsReservations',\n",
       "       'intimate', 'hipster', 'postal_code', 'brunch', 'romantic', 'casual',\n",
       "       'valet', 'HasTV', 'RestaurantsTableService', 'OutdoorSeating',\n",
       "       'latitude', 'compliment_plain', 'useful', 'compliment_writer', 'funny',\n",
       "       'compliment_profile', 'compliment_cute', 'compliment_funny',\n",
       "       'compliment_note', 'fans', 'compliment_photos', 'compliment_cool',\n",
       "       'compliment_hot', 'cool', 'review_count.1', 'average_stars',\n",
       "       'compliment_more', 'friends', 'compliment_list', 'time', 'rating',\n",
       "       'Alcohol_beer_and_wine', 'Alcohol_full_bar', 'Alcohol_nan',\n",
       "       'Alcohol_none', 'NoiseLevel_average', 'NoiseLevel_loud',\n",
       "       'NoiseLevel_nan', 'NoiseLevel_quiet', 'NoiseLevel_very_loud',\n",
       "       'RestaurantsAttire_casual', 'RestaurantsAttire_dressy',\n",
       "       'RestaurantsAttire_formal', 'RestaurantsAttire_nan', 'WiFi_free',\n",
       "       'WiFi_nan', 'WiFi_no', 'WiFi_paid'],\n",
       "      dtype='object')"
      ]
     },
     "execution_count": 23,
     "metadata": {},
     "output_type": "execute_result"
    }
   ],
   "source": [
    "df.columns"
   ]
  },
  {
   "cell_type": "code",
   "execution_count": 26,
   "metadata": {},
   "outputs": [],
   "source": [
    "df.to_csv(DATA/\"yelp_v2.csv\", index=False)"
   ]
  },
  {
   "cell_type": "code",
   "execution_count": 17,
   "metadata": {},
   "outputs": [],
   "source": [
    "import seaborn as sns\n",
    "import matplotlib\n",
    "import matplotlib.pyplot as plt\n",
    "from mpl_toolkits.basemap import Basemap"
   ]
  },
  {
   "cell_type": "code",
   "execution_count": 18,
   "metadata": {},
   "outputs": [
    {
     "data": {
      "image/png": "[encoded data removed]",
      "text/plain": [
       "<Figure size 432x288 with 1 Axes>"
      ]
     },
     "metadata": {},
     "output_type": "display_data"
    }
   ],
   "source": [
    "\n",
    "\n",
    "# decide map range based on min and max latitude/longitudes\n",
    "margin = .01\n",
    "lat_min = min(df['latitude'].values) - margin\n",
    "lat_max = max(df['latitude'].values) + margin\n",
    "lon_min = min(df['longitude'].values) - margin\n",
    "lon_max = max(df['longitude'].values) + margin\n",
    "\n",
    "# create map\n",
    "m = Basemap(llcrnrlon=lon_min,\n",
    "            llcrnrlat=lat_min,\n",
    "            urcrnrlon=lon_max,\n",
    "            urcrnrlat=lat_max,\n",
    "            lat_0=(lat_max - lat_min)/2,\n",
    "            lon_0=(lon_max - lon_min)/2,\n",
    "            projection='merc',\n",
    "            resolution='h',\n",
    "            area_thresh=10000.)\n",
    "m.drawcoastlines()\n",
    "m.drawcountries()\n",
    "m.drawstates()\n",
    "m.drawmapboundary(fill_color='#46bcec')\n",
    "m.fillcontinents(color='white', lake_color='#46bcec')\n",
    "lons, lats = m(df['longitude'].values, df['latitude'].values)\n",
    "\n",
    "# plot points colored by neighborhood\n",
    "#col = business_df['neighborhood'].replace({u'': 'b'})\n",
    "#color_labels = df['neighborhood'].unique()\n",
    "#rgb_values = sns.color_palette(\"Set2\", len(color_labels))\n",
    "#color_map = dict(zip(color_labels, rgb_values))\n",
    "m.scatter(lons, lats, marker='o', zorder=5)\n",
    "plt.show()"
   ]
  },
  {
   "cell_type": "code",
   "execution_count": 63,
   "metadata": {
    "collapsed": true
   },
   "outputs": [
    {
     "data": {
      "image/png": "[encoded data removed]",
      "text/plain": [
       "<Figure size 432x288 with 1 Axes>"
      ]
     },
     "metadata": {
      "needs_background": "light"
     },
     "output_type": "display_data"
    }
   ],
   "source": [
    "sns.distplot(df['rating'], kde=False);"
   ]
  },
  {
   "cell_type": "code",
   "execution_count": 64,
   "metadata": {
    "collapsed": true
   },
   "outputs": [
    {
     "data": {
      "text/plain": [
       "<matplotlib.axes._subplots.AxesSubplot at 0x7ffa2945b4c0>"
      ]
     },
     "execution_count": 64,
     "metadata": {},
     "output_type": "execute_result"
    },
    {
     "data": {
      "image/png": "[encoded data removed]",
      "text/plain": [
       "<Figure size 432x288 with 1 Axes>"
      ]
     },
     "metadata": {
      "needs_background": "light"
     },
     "output_type": "display_data"
    }
   ],
   "source": [
    "sns.distplot(df['stars'], kde=False)"
   ]
  },
  {
   "cell_type": "code",
   "execution_count": 19,
   "metadata": {},
   "outputs": [
    {
     "data": {
      "text/plain": [
       "<matplotlib.axes._subplots.AxesSubplot at 0x7f421dfe11c0>"
      ]
     },
     "execution_count": 19,
     "metadata": {},
     "output_type": "execute_result"
    },
    {
     "data": {
      "image/png": "[encoded data removed]",
      "text/plain": [
       "<Figure size 432x288 with 1 Axes>"
      ]
     },
     "metadata": {
      "needs_background": "light"
     },
     "output_type": "display_data"
    }
   ],
   "source": [
    "sns.boxplot(x='WiFi_free', y='stars', data=df)"
   ]
  },
  {
   "cell_type": "code",
   "execution_count": 77,
   "metadata": {},
   "outputs": [
    {
     "name": "stdout",
     "output_type": "stream",
     "text": [
      "state ['NV' 'AZ' 'AB'] 17\n",
      "RestaurantsPriceRange2 [0.5 2.  1. ] 5\n",
      "WiFi [0.5 \"u'no'\" \"u'free'\"] 7\n",
      "Alcohol [0.5 \"'full_bar'\" \"u'none'\"] 7\n",
      "review_count [238  66  39] 498\n",
      "RestaurantsAttire [0.5 \"'casual'\" \"u'casual'\"] 7\n",
      "stars [2.5 4.5 3.5] 9\n",
      "longitude [-115.2487979 -115.1538714 -111.7902029] 17793\n",
      "postal_code ['89128' '89169' '85286'] 4256\n",
      "NoiseLevel [0.5 \"u'average'\" \"u'quiet'\"] 9\n",
      "city ['Las Vegas' 'Chandler' 'Calgary'] 485\n",
      "latitude [36.2155456 36.1100828 33.2597022] 17970\n",
      "compliment_plain [ 0 12  1] 1195\n",
      "useful [ 18 178  13] 3894\n",
      "compliment_writer [ 0  2 79] 705\n",
      "funny [ 4 36  1] 2783\n",
      "compliment_profile [ 0  1 25] 292\n",
      "compliment_cute [0 1 5] 264\n",
      "compliment_funny [  0  10 280] 1238\n",
      "compliment_note [0 7 1] 759\n",
      "fans [0 3 1] 527\n",
      "compliment_photos [ 0  1 67] 668\n",
      "compliment_cool [  0  10 280] 1238\n",
      "compliment_hot [  0  11 151] 1051\n",
      "cool [ 0 67  1] 3155\n",
      "review_count.1 [238  66  39] 498\n",
      "average_stars [2.   3.97 4.27] 396\n",
      "compliment_more [ 0  2 33] 302\n",
      "friends [ 1 52  2] 2081\n",
      "compliment_list [0 5 4] 174\n",
      "time [1.52190589e+08 2.64645253e+08 1.27163583e+08] 475694\n",
      "rating [1. 5. 4.] 5\n"
     ]
    }
   ],
   "source": [
    "for col in df.columns:\n",
    "    categories = df[col].unique()\n",
    "    if len(categories) > 3:\n",
    "        print(col, categories[:3], len(categories))"
   ]
  },
  {
   "cell_type": "code",
   "execution_count": 78,
   "metadata": {},
   "outputs": [],
   "source": [
    "from sklearn.preprocessing import *"
   ]
  },
  {
   "cell_type": "code",
   "execution_count": 81,
   "metadata": {},
   "outputs": [],
   "source": [
    "le = LabelEncoder()\n",
    "df['city'] = le.fit_transform(df['city'])"
   ]
  }
 ],
 "metadata": {
  "@webio": {
   "lastCommId": null,
   "lastKernelId": null
  },
  "kernelspec": {
   "display_name": "Python 3",
   "language": "python",
   "name": "python3"
  },
  "language_info": {
   "codemirror_mode": {
    "name": "ipython",
    "version": 3
   },
   "file_extension": ".py",
   "mimetype": "text/x-python",
   "name": "python",
   "nbconvert_exporter": "python",
   "pygments_lexer": "ipython3",
   "version": "3.8.0"
  },
  "varInspector": {
   "cols": {
    "lenName": 16,
    "lenType": 16,
    "lenVar": 40
   },
   "kernels_config": {
    "python": {
     "delete_cmd_postfix": "",
     "delete_cmd_prefix": "del ",
     "library": "var_list.py",
     "varRefreshCmd": "print(var_dic_list())"
    },
    "r": {
     "delete_cmd_postfix": ") ",
     "delete_cmd_prefix": "rm(",
     "library": "var_list.r",
     "varRefreshCmd": "cat(var_dic_list()) "
    }
   },
   "types_to_exclude": [
    "module",
    "function",
    "builtin_function_or_method",
    "instance",
    "_Feature"
   ],
   "window_display": false
  }
 },
 "nbformat": 4,
 "nbformat_minor": 2
}
