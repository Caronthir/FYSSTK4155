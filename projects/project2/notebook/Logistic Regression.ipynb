{
 "cells": [
  {
   "cell_type": "code",
   "execution_count": 2,
   "metadata": {},
   "outputs": [],
   "source": [
    "using PyCall\n",
    "\n",
    "py\"\"\"\n",
    "import pickle, os\n",
    "from urllib.request import urlopen \n",
    "import numpy as np\n",
    "\n",
    "from sklearn.model_selection import train_test_split\n",
    "\n",
    "###### define ML parameters\n",
    "num_classes=2\n",
    "train_to_test_ratio=0.5 # training samples\n",
    "\n",
    "# url to data\n",
    "url_main = 'https://physics.bu.edu/~pankajm/ML-Review-Datasets/isingMC/';\n",
    "\n",
    "######### LOAD DATA\n",
    "# The data consists of 16*10000 samples taken in T=np.arange(0.25,4.0001,0.25):\n",
    "data_file_name = \"Ising2DFM_reSample_L40_T=All.pkl\" \n",
    "# The labels are obtained from the following file:\n",
    "label_file_name = \"Ising2DFM_reSample_L40_T=All_labels.pkl\"\n",
    "\n",
    "\n",
    "#DATA\n",
    "data = pickle.load(urlopen(url_main + data_file_name)) # pickle reads the file and returns the Python object (1D array, compressed bits)\n",
    "data = np.unpackbits(data).reshape(-1, 1600) # Decompress array and reshape for convenience\n",
    "data=data.astype('int')\n",
    "data[np.where(data==0)]=-1 # map 0 state to -1 (Ising variable can take values +/-1)\n",
    "\n",
    "#LABELS (convention is 1 for ordered states and 0 for disordered states)\n",
    "labels = pickle.load(urlopen(url_main + label_file_name))\n",
    "\n",
    "# divide data into ordered, critical and disordered\n",
    "X_ordered=data[:70000,:]\n",
    "Y_ordered=labels[:70000]\n",
    "\n",
    "X_critical=data[70000:100000,:]\n",
    "Y_critical=labels[70000:100000]\n",
    "\n",
    "X_disordered=data[100000:,:]\n",
    "Y_disordered=labels[100000:]\n",
    "np.save(\"X_ordered.npy\", X_ordered)\n",
    "np.save(\"Y_ordered.npy\", Y_ordered)\n",
    "np.save(\"X_disordered.npy\", X_disordered)\n",
    "np.save(\"Y_disordered.npy\", Y_disordered)\n",
    "np.save(\"X_critical.npy\", X_critical)\n",
    "np.save(\"Y_critical.npy\", Y_critical)\n",
    "\n",
    "del data,labels\n",
    "\n",
    "# define training and test data sets\n",
    "X=np.concatenate((X_ordered,X_disordered))\n",
    "Y=np.concatenate((Y_ordered,Y_disordered))\n",
    "\n",
    "# pick random data points from ordered and disordered states \n",
    "# to create the training and test sets\n",
    "X_train,X_test,Y_train,Y_test=train_test_split(X,Y,train_size=train_to_test_ratio,test_size=1.0-train_to_test_ratio)\n",
    "np.save(\"X_train.npy\", X_train)\n",
    "np.save(\"Y_train.npy\", Y_train)\n",
    "np.save(\"X_test.npy\", X_test)\n",
    "np.save(\"Y_test.npy\", Y_test)\n",
    "\"\"\""
   ]
  },
  {
   "cell_type": "code",
   "execution_count": 1,
   "metadata": {},
   "outputs": [],
   "source": [
    "include(\"../src/classification.jl\")\n",
    "using Main.Classification"
   ]
  },
  {
   "cell_type": "code",
   "execution_count": 2,
   "metadata": {},
   "outputs": [
    {
     "ename": "InterruptException",
     "evalue": "InterruptException:",
     "output_type": "error",
     "traceback": [
      "InterruptException:",
      "",
      "Stacktrace:",
      " [1] top-level scope at In[2]:2"
     ]
    }
   ],
   "source": [
    "using NPZ: npzread\n",
    "X_ordered = npzread(\"X_ordered.npy\")\n",
    "Y_ordered = npzread(\"Y_ordered.npy\")\n",
    "X_disordered = npzread(\"X_disordered.npy\")\n",
    "Y_disordered = npzread(\"Y_disordered.npy\");\n",
    "\n",
    "\n",
    "# define training and test data sets\n",
    "X=[X_ordered; X_disordered]\n",
    "Y=[Y_ordered; Y_disordered]\n",
    "\n",
    "# pick random data points from ordered and disordered states \n",
    "# to create the training and test sets\n",
    "X_train,X_test,Y_train,Y_test=traintestsplit(X,Y, 0.8)"
   ]
  },
  {
   "cell_type": "code",
   "execution_count": 11,
   "metadata": {},
   "outputs": [],
   "source": [
    "using NPZ: npzread\n",
    "\n",
    "N = 5000\n",
    "X_train = convert(Matrix{Float64}, npzread(\"X_train.npy\"))[1:N, :]\n",
    "Y_train = convert(Vector{Float64}, npzread(\"Y_train.npy\"))[1:N]\n",
    "X_test = convert(Matrix{Float64}, npzread(\"X_test.npy\"))[1:N, :]\n",
    "Y_test = convert(Vector{Float64}, npzread(\"Y_test.npy\"))[1:N];"
   ]
  },
  {
   "cell_type": "code",
   "execution_count": 12,
   "metadata": {},
   "outputs": [
    {
     "name": "stdout",
     "output_type": "stream",
     "text": [
      " 39.467594 seconds (1.05 k allocations: 15.351 MiB)\n",
      "clf_nagd.optimizer.converged = false\n"
     ]
    },
    {
     "data": {
      "text/plain": [
       "false"
      ]
     },
     "execution_count": 12,
     "metadata": {},
     "output_type": "execute_result"
    }
   ],
   "source": [
    "nagd = NAGDContext(learningrate=0.001, tolerance=1e-5, maxiterations=100, batchsize=100)\n",
    "clf_nagd = LogisticClassifier(NesterovGradientDescent(nagd))\n",
    "add_designmatrix!(clf_nagd, copy(X_train))\n",
    "addvalidationset!(clf_nagd, X_test, Y_test, false)\n",
    "@time fit!(clf_nagd, copy(Y_train))\n",
    "\n",
    "@show clf_nagd.optimizer.converged"
   ]
  },
  {
   "cell_type": "code",
   "execution_count": 7,
   "metadata": {},
   "outputs": [],
   "source": [
    "import PyPlot; const plt = PyPlot\n",
    "using PyCall"
   ]
  },
  {
   "cell_type": "code",
   "execution_count": 25,
   "metadata": {
    "scrolled": true
   },
   "outputs": [
    {
     "name": "stdout",
     "output_type": "stream",
     "text": [
      "score(clf_nagd, X_train, Y_train) = 0.5188\n",
      "score(clf_nagd, X_test, Y_test) = 0.6892\n"
     ]
    },
    {
     "data": {
      "text/plain": [
       "0.6892"
      ]
     },
     "execution_count": 25,
     "metadata": {},
     "output_type": "execute_result"
    }
   ],
   "source": [
    "@show score(clf_nagd, X_train, Y_train)\n",
    "@show score(clf_nagd, X_test, Y_test)"
   ]
  },
  {
   "cell_type": "code",
   "execution_count": 13,
   "metadata": {},
   "outputs": [
    {
     "name": "stdout",
     "output_type": "stream",
     "text": [
      "  2.197524 seconds (918 allocations: 36.379 MiB, 7.57% gc time)\n",
      "clf_gd.optimizer.converged = false\n"
     ]
    },
    {
     "data": {
      "text/plain": [
       "false"
      ]
     },
     "execution_count": 13,
     "metadata": {},
     "output_type": "execute_result"
    }
   ],
   "source": [
    "gd = GDContext(learningrate=0.001, tolerance=1e-7, maxiterations=100)\n",
    "clf_gd = LogisticClassifier(GradientDescent(gd))\n",
    "add_designmatrix!(clf_gd, X_train)\n",
    "addvalidationset!(clf_gd, X_test, Y_test, false)\n",
    "@time fit!(clf_gd, Y_train)\n",
    "\n",
    "@show clf_gd.optimizer.converged"
   ]
  },
  {
   "cell_type": "code",
   "execution_count": 14,
   "metadata": {},
   "outputs": [
    {
     "data": {
      "image/png": "[encoded data removed]",
      "text/plain": [
       "PyPlot.Figure(PyObject <Figure size 322.54x199.34 with 1 Axes>)"
      ]
     },
     "metadata": {},
     "output_type": "display_data"
    }
   ],
   "source": [
    "figpath = \"../latex/figures\"\n",
    "@pywith plt.matplotlib.pyplot.style.context(\"rapport\") begin\n",
    "fig, ax = plt.subplots()\n",
    "line = ax.plot(clf_gd.optimizer.validationloss, label=\"GD Train\")\n",
    "ax.plot(clf_gd.optimizer.loss, c=line[1].get_color(), ls=\"--\", label=\"GD Test\")\n",
    "line= ax.plot(clf_nagd.optimizer.loss, label=\"Nesterov Train\")\n",
    "ax.plot(clf_nagd.optimizer.validationloss, c=line[1].get_color(), ls=\"--\", label=\"Nesterov Test\")\n",
    "ax.set_ylabel(\"Cross-entropy loss\")\n",
    "fig.legend(loc=9, ncol=2, frameon=false,\n",
    "            bbox_to_anchor=(0.1, 1.002, 1, 0.3))\n",
    " \n",
    "ax.set_xlabel(\"Iterations\")\n",
    "#fig.savefig(figpath*\"/GD_loss.png\", dpi=300, transparent=true, bbox_inches=\"tight\")\n",
    "#ax.set_xscale(\"log\")\n",
    "end\n",
    "#ax.set_yscale(\"log\")"
   ]
  },
  {
   "cell_type": "code",
   "execution_count": 70,
   "metadata": {
    "scrolled": false
   },
   "outputs": [
    {
     "ename": "MethodError",
     "evalue": "MethodError: no method matching getindex(::Module, ::Symbol)",
     "output_type": "error",
     "traceback": [
      "MethodError: no method matching getindex(::Module, ::Symbol)",
      "",
      "Stacktrace:",
      " [1] top-level scope at In[70]:3"
     ]
    }
   ],
   "source": [
    "\n",
    "rcParams = PyPlot.PyDict(PyPlot.matplotlib.\"rcParams\")"
   ]
  },
  {
   "cell_type": "code",
   "execution_count": 134,
   "metadata": {},
   "outputs": [
    {
     "name": "stdout",
     "output_type": "stream",
     "text": [
      "score(clf_gd, X_train, Y_train) = 0.6116\n",
      "score(clf_gd, X_test, Y_test) = 0.4908\n",
      "score(clf_nagd, X_train, Y_train) = 0.5184\n",
      "score(clf_nagd, X_test, Y_test) = 0.7024\n"
     ]
    },
    {
     "data": {
      "text/plain": [
       "0.7024"
      ]
     },
     "execution_count": 134,
     "metadata": {},
     "output_type": "execute_result"
    }
   ],
   "source": [
    "@show score(clf_gd, X_train, Y_train)\n",
    "@show score(clf_gd, X_test, Y_test)\n",
    "@show score(clf_nagd, X_train, Y_train)\n",
    "@show score(clf_nagd, X_test, Y_test)"
   ]
  },
  {
   "cell_type": "code",
   "execution_count": 133,
   "metadata": {},
   "outputs": [
    {
     "data": {
      "text/plain": [
       "PyObject SGDClassifier(alpha=0.0001, average=False, class_weight=None,\n",
       "              early_stopping=False, epsilon=0.1, eta0=0.0, fit_intercept=True,\n",
       "              l1_ratio=0.15, learning_rate='optimal', loss='log', max_iter=100,\n",
       "              n_iter_no_change=5, n_jobs=None, penalty='l2', power_t=0.5,\n",
       "              random_state=1, shuffle=True, tol=0.001, validation_fraction=0.1,\n",
       "              verbose=0, warm_start=False)"
      ]
     },
     "execution_count": 133,
     "metadata": {},
     "output_type": "execute_result"
    }
   ],
   "source": [
    "using PyCall\n",
    "sklearn = pyimport(\"sklearn\")\n",
    "\n",
    "logreg_SGD = sklearn.linear_model.SGDClassifier(loss=\"log\", penalty=\"l2\", max_iter=100, \n",
    "                                        shuffle=true, random_state=1, learning_rate=\"optimal\")\n",
    "# fit training data\n",
    "logreg_SGD.fit(X_train,Y_train)"
   ]
  },
  {
   "cell_type": "code",
   "execution_count": 135,
   "metadata": {},
   "outputs": [
    {
     "name": "stdout",
     "output_type": "stream",
     "text": [
      "logreg_SGD.score(X_train, Y_train) = 0.7498\n",
      "logreg_SGD.score(X_test, Y_test) = 0.5276\n"
     ]
    },
    {
     "data": {
      "text/plain": [
       "0.5276"
      ]
     },
     "execution_count": 135,
     "metadata": {},
     "output_type": "execute_result"
    }
   ],
   "source": [
    "@show logreg_SGD.score(X_train,Y_train)\n",
    "@show logreg_SGD.score(X_test,Y_test)"
   ]
  },
  {
   "cell_type": "code",
   "execution_count": 175,
   "metadata": {},
   "outputs": [
    {
     "data": {
      "image/png": "[encoded data removed]",
      "text/plain": [
       "PyPlot.Figure(PyObject <Figure size 322.54x398.682 with 2 Axes>)"
      ]
     },
     "metadata": {},
     "output_type": "display_data"
    }
   ],
   "source": [
    "fig_width_pt = 233.1  # Get this from LaTeX using \\showthe\\columnwidth\n",
    "inches_per_pt = 1.0/72.27               # Convert pt to inches\n",
    "golden_mean = (sqrt(5)-1.0)/2.0         # Aesthetic ratio\n",
    "fig_width = fig_width_pt*inches_per_pt  # width in inches\n",
    "fig_height =fig_width*golden_mean       # height in inches\n",
    "@pywith plt.matplotlib.pyplot.style.context(\"rapport\") begin\n",
    "fig, ax = plt.subplots(nrows=2, figsize=(fig_width, 2*fig_height))\n",
    "ax[1].matshow(reshape(X_train[11, :], 40, 40), cmap=\"Blues_r\")\n",
    "ax[1].axis(\"off\")\n",
    "ax[1].set_title(\"Ordered phase\")\n",
    "ax[2].matshow(reshape(X_train[1, :], 40, 40), cmap=\"Blues_r\")\n",
    "ax[2].axis(\"off\")\n",
    "ax[2].set_title(\"Disordered phase\")\n",
    "fig.savefig(figpath*\"/matrix.png\", dpi=300, transparent=true, bbox_inches=\"tight\")\n",
    "end"
   ]
  },
  {
   "cell_type": "code",
   "execution_count": 140,
   "metadata": {},
   "outputs": [
    {
     "data": {
      "text/plain": [
       "40×40 Array{Float64,2}:\n",
       " -1.0   1.0  -1.0  -1.0   1.0   1.0  …   1.0   1.0   1.0  -1.0   1.0   1.0\n",
       " -1.0   1.0  -1.0  -1.0   1.0   1.0      1.0   1.0   1.0   1.0   1.0   1.0\n",
       " -1.0  -1.0  -1.0  -1.0   1.0   1.0     -1.0   1.0   1.0   1.0   1.0  -1.0\n",
       " -1.0  -1.0   1.0  -1.0   1.0  -1.0      1.0   1.0   1.0   1.0   1.0  -1.0\n",
       "  1.0   1.0   1.0  -1.0  -1.0   1.0     -1.0  -1.0   1.0   1.0   1.0   1.0\n",
       " -1.0   1.0   1.0   1.0   1.0   1.0  …   1.0   1.0   1.0   1.0   1.0  -1.0\n",
       "  1.0   1.0  -1.0   1.0   1.0   1.0      1.0   1.0   1.0   1.0   1.0   1.0\n",
       "  1.0  -1.0  -1.0   1.0   1.0   1.0     -1.0  -1.0  -1.0   1.0   1.0   1.0\n",
       " -1.0   1.0  -1.0  -1.0   1.0   1.0      1.0  -1.0  -1.0  -1.0   1.0  -1.0\n",
       " -1.0   1.0  -1.0   1.0   1.0   1.0      1.0  -1.0   1.0  -1.0  -1.0  -1.0\n",
       " -1.0  -1.0   1.0  -1.0  -1.0   1.0  …   1.0   1.0   1.0   1.0   1.0  -1.0\n",
       " -1.0  -1.0  -1.0  -1.0   1.0   1.0     -1.0   1.0  -1.0  -1.0   1.0  -1.0\n",
       " -1.0  -1.0  -1.0  -1.0   1.0   1.0     -1.0  -1.0  -1.0  -1.0   1.0   1.0\n",
       "  ⋮                             ⋮    ⋱         ⋮                          \n",
       " -1.0  -1.0   1.0   1.0  -1.0   1.0      1.0  -1.0   1.0   1.0  -1.0  -1.0\n",
       " -1.0  -1.0  -1.0   1.0  -1.0   1.0      1.0  -1.0   1.0   1.0  -1.0  -1.0\n",
       " -1.0  -1.0  -1.0  -1.0   1.0  -1.0  …   1.0   1.0   1.0  -1.0   1.0   1.0\n",
       " -1.0  -1.0  -1.0  -1.0  -1.0   1.0     -1.0   1.0  -1.0  -1.0  -1.0  -1.0\n",
       " -1.0   1.0  -1.0  -1.0  -1.0   1.0      1.0  -1.0  -1.0  -1.0  -1.0  -1.0\n",
       " -1.0   1.0  -1.0  -1.0  -1.0  -1.0     -1.0  -1.0  -1.0   1.0  -1.0  -1.0\n",
       "  1.0   1.0   1.0   1.0   1.0   1.0     -1.0  -1.0  -1.0   1.0  -1.0  -1.0\n",
       "  1.0   1.0   1.0   1.0   1.0   1.0  …  -1.0  -1.0  -1.0   1.0   1.0  -1.0\n",
       " -1.0  -1.0  -1.0  -1.0  -1.0   1.0     -1.0  -1.0  -1.0  -1.0   1.0  -1.0\n",
       " -1.0  -1.0  -1.0  -1.0   1.0  -1.0      1.0   1.0   1.0  -1.0   1.0  -1.0\n",
       " -1.0  -1.0   1.0   1.0  -1.0  -1.0      1.0  -1.0  -1.0  -1.0   1.0  -1.0\n",
       " -1.0  -1.0   1.0   1.0   1.0   1.0      1.0   1.0  -1.0  -1.0  -1.0  -1.0"
      ]
     },
     "execution_count": 140,
     "metadata": {},
     "output_type": "execute_result"
    }
   ],
   "source": [
    "reshape(X_train[1, :], 40, 40)"
   ]
  },
  {
   "cell_type": "code",
   "execution_count": null,
   "metadata": {},
   "outputs": [],
   "source": []
  }
 ],
 "metadata": {
  "@webio": {
   "lastCommId": null,
   "lastKernelId": null
  },
  "kernelspec": {
   "display_name": "Julia 1.2.0",
   "language": "julia",
   "name": "julia-1.2"
  },
  "language_info": {
   "file_extension": ".jl",
   "mimetype": "application/julia",
   "name": "julia",
   "version": "1.2.0"
  },
  "varInspector": {
   "cols": {
    "lenName": 16,
    "lenType": 16,
    "lenVar": 40
   },
   "kernels_config": {
    "python": {
     "delete_cmd_postfix": "",
     "delete_cmd_prefix": "del ",
     "library": "var_list.py",
     "varRefreshCmd": "print(var_dic_list())"
    },
    "r": {
     "delete_cmd_postfix": ") ",
     "delete_cmd_prefix": "rm(",
     "library": "var_list.r",
     "varRefreshCmd": "cat(var_dic_list()) "
    }
   },
   "types_to_exclude": [
    "module",
    "function",
    "builtin_function_or_method",
    "instance",
    "_Feature"
   ],
   "window_display": false
  }
 },
 "nbformat": 4,
 "nbformat_minor": 2
}
